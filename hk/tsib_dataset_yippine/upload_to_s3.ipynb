{
 "cells": [
  {
   "cell_type": "code",
   "execution_count": 7,
   "id": "bc18cbdd-a449-43d4-bfa4-1892cae2cde4",
   "metadata": {},
   "outputs": [
    {
     "name": "stdout",
     "output_type": "stream",
     "text": [
      "/home/sagemaker-user/tsib_dataset_yippine\n"
     ]
    }
   ],
   "source": [
    "%cd tsib_dataset_yippine"
   ]
  },
  {
   "cell_type": "code",
   "execution_count": 1,
   "id": "c2342d46-b5fc-40d4-8c9d-9e3f63b5c33a",
   "metadata": {},
   "outputs": [
    {
     "name": "stdout",
     "output_type": "stream",
     "text": [
      "ACCTS_Data_202412.csv  ID_Data_202412.csv\tupload_to_s3.ipynb\n",
      "ECCUS_Data_202412.csv  SAV_TXN_Data_202412.csv\n"
     ]
    }
   ],
   "source": [
    "!ls"
   ]
  },
  {
   "cell_type": "code",
   "execution_count": 2,
   "id": "2db7fdc1-d2e8-47f8-8852-e9d7d3c2c08b",
   "metadata": {},
   "outputs": [
    {
     "name": "stderr",
     "output_type": "stream",
     "text": [
      "/opt/conda/lib/python3.12/site-packages/pydantic/_internal/_fields.py:192: UserWarning: Field name \"json\" in \"MonitoringDatasetFormat\" shadows an attribute in parent \"Base\"\n",
      "  warnings.warn(\n"
     ]
    },
    {
     "name": "stdout",
     "output_type": "stream",
     "text": [
      "sagemaker.config INFO - Not applying SDK defaults from location: /etc/xdg/sagemaker/config.yaml\n",
      "sagemaker.config INFO - Not applying SDK defaults from location: /home/sagemaker-user/.config/sagemaker/config.yaml\n",
      "目前使用的 SageMaker 執行角色: arn:aws:iam::286715836097:role/service-role/AmazonSageMaker-ExecutionRole-20250426T083991\n",
      "角色名稱: AmazonSageMaker-ExecutionRole-20250426T083991\n"
     ]
    }
   ],
   "source": [
    "import boto3  \n",
    "import json  \n",
    "from sagemaker import get_execution_role  \n",
    "\n",
    "# 獲取當前執行角色  \n",
    "role = get_execution_role()  \n",
    "print(f\"目前使用的 SageMaker 執行角色: {role}\")  \n",
    "\n",
    "# 獲取角色信息  \n",
    "iam = boto3.client('iam')  \n",
    "role_name = role.split('/')[-1]  # 從 ARN 中提取角色名稱  \n",
    "print(f\"角色名稱: {role_name}\")  "
   ]
  },
  {
   "cell_type": "code",
   "execution_count": 3,
   "id": "6d68b65e-2c19-4cac-b476-6f0223bdc3d7",
   "metadata": {},
   "outputs": [
    {
     "name": "stdout",
     "output_type": "stream",
     "text": [
      "成功創建儲存桶: aiwave-hackathon-team-5-yippine 在區域 us-west-2\n",
      "成功上傳 ID_Data_202412.csv 到 s3://aiwave-hackathon-team-5-yippine/raw/ID_Data_202412.csv\n",
      "成功上傳 ACCTS_Data_202412.csv 到 s3://aiwave-hackathon-team-5-yippine/raw/ACCTS_Data_202412.csv\n",
      "成功上傳 SAV_TXN_Data_202412.csv 到 s3://aiwave-hackathon-team-5-yippine/raw/SAV_TXN_Data_202412.csv\n",
      "成功上傳 ECCUS_Data_202412.csv 到 s3://aiwave-hackathon-team-5-yippine/raw/ECCUS_Data_202412.csv\n"
     ]
    }
   ],
   "source": [
    "import boto3  \n",
    "import os  \n",
    "\n",
    "# 設定 AWS 區域 - 根據您的 AWS 帳戶區域調整  \n",
    "region = 'us-west-2'  # 例如：東京區域，請根據您的實際區域調整  \n",
    "\n",
    "# 連接到 S3，明確指定區域  \n",
    "s3 = boto3.client('s3', region_name=region)  \n",
    "\n",
    "# 設定存儲桶名稱  \n",
    "bucket_name = 'aiwave-hackathon-team-5-yippine'  \n",
    "prefix = 'raw/'  \n",
    "\n",
    "# 設定本地檔案路徑  \n",
    "files_to_upload = [  \n",
    "    'ID_Data_202412.csv',  \n",
    "    'ACCTS_Data_202412.csv',  \n",
    "    'SAV_TXN_Data_202412.csv',  \n",
    "    'ECCUS_Data_202412.csv'  \n",
    "]  \n",
    "\n",
    "# 確保檔案存在於當前目錄  \n",
    "local_path = './'  # Colab 的當前工作目錄  \n",
    "\n",
    "# 檢查儲存桶是否存在，如不存在則創建  \n",
    "try:  \n",
    "    s3.head_bucket(Bucket=bucket_name)  \n",
    "    print(f\"儲存桶 {bucket_name} 已存在\")  \n",
    "except:  \n",
    "    try:  \n",
    "        # 關鍵修正：明確指定 LocationConstraint  \n",
    "        s3.create_bucket(  \n",
    "            Bucket=bucket_name,  \n",
    "            CreateBucketConfiguration={  \n",
    "                'LocationConstraint': region  \n",
    "            }  \n",
    "        )  \n",
    "        print(f\"成功創建儲存桶: {bucket_name} 在區域 {region}\")  \n",
    "    except Exception as e:  \n",
    "        print(f\"創建儲存桶時發生錯誤: {e}\")  \n",
    "\n",
    "# 上傳每個檔案  \n",
    "for file_name in files_to_upload:  \n",
    "    local_file_path = os.path.join(local_path, file_name)  \n",
    "    \n",
    "    # 檢查文件是否存在  \n",
    "    if not os.path.exists(local_file_path):  \n",
    "        print(f\"檔案不存在: {local_file_path}\")  \n",
    "        continue  \n",
    "        \n",
    "    s3_object_name = prefix + file_name  \n",
    "    \n",
    "    # 執行上傳  \n",
    "    try:  \n",
    "        s3.upload_file(local_file_path, bucket_name, s3_object_name)  \n",
    "        print(f\"成功上傳 {file_name} 到 s3://{bucket_name}/{s3_object_name}\")  \n",
    "    except Exception as e:  \n",
    "        print(f\"上傳 {file_name} 時發生錯誤: {e}\")  "
   ]
  },
  {
   "cell_type": "code",
   "execution_count": null,
   "id": "51f127b7-bebf-4396-8d10-eb22a3555f01",
   "metadata": {},
   "outputs": [],
   "source": []
  }
 ],
 "metadata": {
  "kernelspec": {
   "display_name": "Python 3 (ipykernel)",
   "language": "python",
   "name": "python3"
  },
  "language_info": {
   "codemirror_mode": {
    "name": "ipython",
    "version": 3
   },
   "file_extension": ".py",
   "mimetype": "text/x-python",
   "name": "python",
   "nbconvert_exporter": "python",
   "pygments_lexer": "ipython3",
   "version": "3.12.9"
  }
 },
 "nbformat": 4,
 "nbformat_minor": 5
}
